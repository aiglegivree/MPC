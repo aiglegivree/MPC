{
 "cells": [
  {
   "metadata": {},
   "cell_type": "markdown",
   "source": [
    "# Tutorial\n",
    "\n",
    "Throughout the semester, we will use multiple Python libraries that you may or may not be familiar with. You will find below resources for the most important ones, either in the form of documentation links or short tutorials.\n",
    "\n",
    "## NumPy\n",
    "\n",
    "NumPy is a fundamental package for scientific computing in Python. It provides support for arrays, matrices, and a variety of mathematical functions to operate on these data structures.\n",
    "- [Official NumPy Documentation](https://numpy.org/doc/stable/)\n",
    "- [NumPy Quickstart](https://numpy.org/doc/stable/user/quickstart.html)\n",
    "- [NumPy for Matlab users](https://numpy.org/doc/stable/user/numpy-for-matlab-users.html)\n",
    "\n",
    "## Matplotlib\n",
    "\n",
    "Matplotlib is the de facto plotting library for Python. It provides a simple Matlab-like API to create line plots, scatter plots, bar plots, and more.\n",
    "- [Official Matplotlib Documentation](https://matplotlib.org/stable/contents.html)\n",
    "- [Matplotlib Gallery](https://matplotlib.org/stable/gallery/index.html)\n",
    "\n",
    "## mpt4py\n",
    "\n",
    "The **Multi-Parametric Toolbox for Python** (***mpt4py*** for short) offers efficient routines for various polyhedral computations that arise in optimal control.\n",
    "It is currently being developed by our lab while it is very much functional it may contain a few bugs. Please do report them if you find some.\n",
    "\n",
    "You can find the documentation hosted on https://predict-epfl.github.io/MPC-Course-EPFL/. You can also find local HTML files in this directory [`mpt4py_doc_html`](mpt4py_doc_html) after cloning the repo and open the `index.html` file in your web browser to view it.\n",
    "\n",
    "> **NOTE**: ignore the installation section, you should already have it installed.\n",
    "\n",
    "In the following subsections we will also go through the basic operations that `mpt4py` supports."
   ],
   "id": "67ea4e24fe2ed6df"
  },
  {
   "metadata": {},
   "cell_type": "code",
   "outputs": [],
   "execution_count": null,
   "source": [
    "import numpy as np\n",
    "from mpt4py.base import HData, VData\n",
    "from mpt4py import Polyhedron\n",
    "%config InlineBackend.figure_format = 'retina'\n"
   ],
   "id": "6614dd064f8126a5"
  },
  {
   "metadata": {},
   "cell_type": "markdown",
   "source": [
    "### Polyhedron Creation\n",
    "A polyhedron can be represented in two ways:\n",
    "- The halfspace representation (**H-rep**), given by the feasible region of inequalities and equalities:\n",
    "\t$$P = \\left\\{ x \\in\\mathbb{R}^n \\mid A x \\leq b, A_e x = b_e \\right\\}$$\n",
    "- The vertex representation (**V-rep**), given by vertices (and rays for unbounded polyhedra):\n",
    "\t$$P = \\left\\{ x \\in\\mathbb{R}^n \\mid x = V^\\top \\lambda + R^\\top \\mu, ~ 1^\\top \\lambda = 1 , ~ \\lambda,\\mu \\geq 0 \\right\\} $$\n",
    "\n",
    "\n",
    "The `mpt4py` provides two classes `HData` and `VData` to represent both representations, respectively. The users can easily create a polyhedron from either of them.\n",
    "\n",
    "We will show how to create a polyhedron in the following.\n"
   ],
   "id": "756053a293f669a9"
  },
  {
   "metadata": {},
   "cell_type": "markdown",
   "source": [
    "\n",
    "#### Create a polyhedron from H-rep\n",
    "\n",
    "For example, to create a 2D hexgon from its H-rep, we just need to write down the arrays representing the left-hand side and right-hand side of inequalities and equalities `A, b, Ae, be` (in this example there is no equality, so we ignore `Ae` and `be`).\n",
    "\n",
    "A `HData` object should be constructed using these arrays. With this object, we can then create a `Polyhedron` object."
   ],
   "id": "fd506d39ef830793"
  },
  {
   "metadata": {},
   "cell_type": "code",
   "outputs": [],
   "execution_count": null,
   "source": [
    "# Create a 2D hexagon from H-representation\n",
    "theta = np.linspace(0, 2*np.pi, 7).reshape((-1,1))[:-1]\n",
    "A = np.column_stack((np.sin(theta), np.cos(theta)))\n",
    "b = np.sqrt(3)/2 * np.ones((6))\n",
    "\n",
    "hrep = HData(A=A, b=b, Ae=None, be=None) # you can save the Ae and be arguments since their default values are None\n",
    "hexagon_1 = Polyhedron(H=hrep)"
   ],
   "id": "868970b582c412f9"
  },
  {
   "metadata": {},
   "cell_type": "markdown",
   "source": "An equivalent but more compact way is to use the class method `from_Hrep()`, since this will save the efforts to create a `HData` object.",
   "id": "938f76d5db59e882"
  },
  {
   "metadata": {},
   "cell_type": "code",
   "outputs": [],
   "execution_count": null,
   "source": "hexagon_1 = Polyhedron.from_Hrep(A=A, b=b) # a more compact way ",
   "id": "2f29051349587eb7"
  },
  {
   "metadata": {},
   "cell_type": "markdown",
   "source": [
    "#### Create a polyhedron from V-rep\n",
    "Similarly, we can create the same hexagon from its V-rep. We will need to write down its vertices `V` and rays `R` (in this example there are only vertices), and use them to create a `VData` object. "
   ],
   "id": "6f48c657cfdabbec"
  },
  {
   "metadata": {},
   "cell_type": "code",
   "outputs": [],
   "execution_count": null,
   "source": [
    "# Create the same 2D hexagon from V-representation\n",
    "V = np.column_stack((np.cos(theta), np.sin(theta))) # the vertices\n",
    "vrep = VData(V=V, R=None)\n",
    "hexagon_2 = Polyhedron(V=vrep)"
   ],
   "id": "95e636c573219520"
  },
  {
   "metadata": {},
   "cell_type": "markdown",
   "source": "Of course, there is also a classmethod `from_Vrep()` to do the same job.",
   "id": "cd84ca912ce99a69"
  },
  {
   "metadata": {},
   "cell_type": "code",
   "outputs": [],
   "execution_count": null,
   "source": "hexagon_2 = Polyhedron.from_Vrep(V=V) # a more compact way",
   "id": "65bca98b72abc2f1"
  },
  {
   "metadata": {},
   "cell_type": "markdown",
   "source": [
    "### Polyhedron Visualization\n",
    "\n",
    "With `mpt4py`, a polyhedron `P` can be easily visualized with `P.plot(ax, **kwargs)`. Two backends are supported: matlotlib and [pyvista](https://docs.pyvista.org/index.html) with unified API.\n",
    "\n",
    "- To use matplotlib, pass a [`matplotlib.axes.Axes`](https://matplotlib.org/stable/api/_as_gen/matplotlib.axes.Axes.html#matplotlib.axes.Axes) object as the `ax` argument. \n",
    "\t\n",
    "\t**Note:** supports bounded polyhedra only. Limited 3D capabilities.\n",
    "\n",
    "- To use pyvista, pass a [`pyvista.Plotter`](https://docs.pyvista.org/api/plotting/_autosummary/pyvista.plotter) object as the `ax` argument. \n",
    "\n",
    "\t**Note:** supports both bounded and unbounded polyhdra. Better support for 3D plotting. \n",
    "\n",
    "Some frequently used arguments in `plot()` is listed below:\n",
    "\n",
    "| Argument       | Type            | Default  | Description        |\n",
    "|:--------------:|:---------------:|:--------:|-------------------|\n",
    "| `color`        | Optional[str]   | `'blue'` | Color of the facet  |\n",
    "| `opacity`      | Optional[float] | `1.0`    | Opacity of the facet     |\n",
    "| `show_edges`   | Optional[bool]  | `True`   | Whether to draw edges    |\n",
    "| `edge_width`   | Optional[float] | `1.0`    | Line width of edges      |\n",
    "| `edge_color`   | Optional[str]   | `'black'`| Color of edges           |\n",
    "| `show_vertices`| Optional[bool]  | `False`  | Whether to draw vertices |\n",
    "| `vertex_size`  | Optional[float] | `20.0`   | Size of vertex markers   |\n",
    "| `vertex_color` | Optional[str]   | `'black'`| Color of vertex markers  |\n"
   ],
   "id": "e3616268541284d2"
  },
  {
   "metadata": {},
   "cell_type": "markdown",
   "source": [
    "#### Visualize a 2D polyhedron\n",
    "It's possible to use kwargs to control some visualization properties. We plot the 2D hexagon again with some frequently-used arguments to customize the visualization. "
   ],
   "id": "df619a744a7991c7"
  },
  {
   "metadata": {},
   "cell_type": "code",
   "outputs": [],
   "execution_count": null,
   "source": [
    "# Visualization with matplotlib\n",
    "import matplotlib.pyplot as plt\n",
    "fig, ax = plt.subplots(1, 1)\n",
    "ax.set_aspect('equal')\n",
    "\n",
    "hexagon_1.plot(ax, opacity=0.3, color='red', label='hexagon',\n",
    "               show_edges=True, edge_color='black', edge_width=2.,         # edge options\n",
    "               show_vertices=True, vertex_color='purple', vertex_size=20.  # vertex options\n",
    "               )\n",
    "plt.legend(loc=\"upper right\")\n",
    "plt.show()"
   ],
   "id": "26bd8afd8df5bb06"
  },
  {
   "metadata": {},
   "cell_type": "code",
   "outputs": [],
   "execution_count": null,
   "source": [
    "# Visualization with pyvista\n",
    "import pyvista as pv\n",
    "plotter = pv.Plotter()\n",
    "\n",
    "hexagon_2.plot(\n",
    "    plotter, opacity=0.5, color='red',\n",
    "    show_edges=True, edge_color='black', edge_width=5.,\n",
    "    show_vertices=True, vertex_color='purple', vertex_size=20.,\n",
    "    # label=...  label is not yet supported with pyvista backend\n",
    "    )\n",
    "\n",
    "plotter.view_xy()  # view the 3D object in a 2D manner on the xy plane \n",
    "plotter.show()"
   ],
   "id": "9c873d7a8da69cdf"
  },
  {
   "metadata": {},
   "cell_type": "markdown",
   "source": [
    "#### Visualize a 3D polyhedron\n",
    "\n",
    "Compare to 2D, the only difference to plot a 3D polyhedron using matplotlib is that we have to set `projection=3d` when creating the `matplotlib.axes.Axes` object.\n"
   ],
   "id": "f3698b5fb94844f4"
  },
  {
   "metadata": {},
   "cell_type": "code",
   "outputs": [],
   "execution_count": null,
   "source": [
    "V = np.array([[1, 0, 0], [0, 1, 0], [-1, 0, 0], [0, -1, 0], [0, 0, 1]], dtype=np.float64)  # a pyramid\n",
    "P = Polyhedron.from_Vrep(V)\n",
    "ax = plt.subplot(projection='3d')  # ! don't forget the projection argument\n",
    "\n",
    "P.plot(\n",
    "    ax, color='r', opacity=0.2, \n",
    "    show_edges=True, show_vertices=False,\n",
    "    # label='pyramid',  # label is not yet available for 3D polyhedron plotting in mpt4py\n",
    "    )\n",
    "plt.show()"
   ],
   "id": "1afc67426c6dfebc"
  },
  {
   "metadata": {},
   "cell_type": "markdown",
   "source": "The way to plot a 3D polyhedron using PyVista is basically the same as 2D. ",
   "id": "a70fb643871891b3"
  },
  {
   "metadata": {},
   "cell_type": "code",
   "outputs": [],
   "execution_count": null,
   "source": [
    "plotter = pv.Plotter()\n",
    "P.plot(\n",
    "    plotter, \n",
    "    opacity=1.0,\n",
    "    color='lightblue', \n",
    "    )\n",
    "plotter.show_bounds()\n",
    "plotter.show()"
   ],
   "id": "ca2215d8db7f1e9c"
  },
  {
   "metadata": {},
   "cell_type": "markdown",
   "source": "Thanks to the PyVista backend, it's also possible to nicely visualize an unbounded polyhedron.",
   "id": "5e2404a8641138d9"
  },
  {
   "metadata": {},
   "cell_type": "code",
   "outputs": [],
   "execution_count": null,
   "source": [
    "R = np.array([[0, 0, 1]], dtype=np.float64)\n",
    "P = Polyhedron.from_Vrep(V, R)  # add a ray to make the polyhedron unbounded\n",
    "plotter = pv.Plotter()\n",
    "P.plot(\n",
    "    plotter, \n",
    "    opacity=0.5,\n",
    "    color='green', \n",
    "    show_edges=False,\n",
    "    )\n",
    "plotter.show_bounds()\n",
    "plotter.show()"
   ],
   "id": "5b916b93f029c765"
  },
  {
   "metadata": {},
   "cell_type": "markdown",
   "source": [
    "### Polyhedron Operations\n",
    "\n",
    "#### Set containment and equivalence\n",
    "\n",
    "To determine if a polyhedron $P_1$ is a subset of another polyhedron $P_2$, just use `P1 in P2` or `P2.contains(P1)`. \n"
   ],
   "id": "bab51f1750992e74"
  },
  {
   "metadata": {},
   "cell_type": "code",
   "outputs": [],
   "execution_count": null,
   "source": [
    "print(\"Is hexagon 1 a subset of hexagon 2? \", hexagon_1 in hexagon_2)\n",
    "print(\"Is hexagon 2 a subset of hexagon 1? \", hexagon_2 in hexagon_1)\n",
    "\n",
    "print(\"Does hexagon 1 contain hexagon 2? \", hexagon_1.contains(hexagon_2))\n",
    "print(\"Does hexagon 2 contain hexagon 1? \", hexagon_2.contains(hexagon_1))"
   ],
   "id": "2557cf6997993f5"
  },
  {
   "metadata": {},
   "cell_type": "markdown",
   "source": [
    "\n",
    "For two polyhedra $P_1$ and $P_2$, we have $ P_1 = P_2 \\iff P_1 \\subseteq P_2,~ P_2\\subseteq P_1$.\n",
    "\n",
    "We can verify the two hexagons we just created are identical using the `==` operator.\n"
   ],
   "id": "311d4cdc3c4a449d"
  },
  {
   "metadata": {},
   "cell_type": "code",
   "outputs": [],
   "execution_count": null,
   "source": "print(\"Are the two hexagons identical? \", hexagon_1 == hexagon_2)",
   "id": "6feb27ef04374c0"
  },
  {
   "metadata": {},
   "cell_type": "markdown",
   "source": [
    "#### Affine map\n",
    "\n",
    "Based on the transformation matrix $T\\in\\mathbb{R}^{n\\times d}$ and vector $t$, the affine map of a polyhedron $P$ to another polyhedron $Q$ is defined by:\n",
    "\n",
    "$$Q = \\{ y \\in \\mathbb{R}^n \\mid y=Tx+t, x \\in P \\subseteq \\mathbb{R}^d \\}.$$\n",
    "\n",
    "\t\t\n",
    "In *mpt4py*, this can be computed with `Q = P.affine_map(T, t)`, or `Q = T @ P + t`."
   ],
   "id": "435e7916fea503c4"
  },
  {
   "metadata": {},
   "cell_type": "code",
   "outputs": [],
   "execution_count": null,
   "source": [
    "alpha = np.pi/3\n",
    "T = np.array([[np.cos(alpha), -np.sin(alpha)], [np.sin(alpha), np.cos(alpha)]])\n",
    "t = np.array([1.5, 0.])\n",
    "\n",
    "hexagon_3 = hexagon_2.affine_map(T, t)\n",
    "# Optionally and equivalently:\n",
    "hexagon_3 = T @ hexagon_2 + t\n",
    "\n",
    "ax = plt.subplot()\n",
    "ax.set_aspect('equal')\n",
    "hexagon_1.plot(ax, color='red', opacity=0.3)\n",
    "hexagon_3.plot(ax, color='blue', opacity=0.3)\n",
    "plt.show()"
   ],
   "id": "56ba9130d6bff9ae"
  },
  {
   "metadata": {},
   "cell_type": "markdown",
   "source": [
    "#### Intersection\n",
    "\n",
    "The intersection of two polyhedra $P_1$ and $P_2$ is still a polyhedron. In *mpt4py*, it can be computed with `P1.intersection(P2)`.\n"
   ],
   "id": "c6f2f521ade463a5"
  },
  {
   "metadata": {},
   "cell_type": "code",
   "outputs": [],
   "execution_count": null,
   "source": [
    "P4 = hexagon_1.intersect(hexagon_3)\n",
    "\n",
    "ax = plt.subplot()\n",
    "ax.set_aspect('equal')\n",
    "P4.plot(ax, color='purple', opacity=0.3)\n",
    "plt.show()"
   ],
   "id": "8d18fd1206b796cc"
  },
  {
   "metadata": {},
   "cell_type": "markdown",
   "source": [
    "#### Minkowski sum and Pontryagin difference\n",
    "\n",
    "To compute the Minkowski sum or Pontryagin difference of two polyhedra with *mpt4py*, just simply do `P1 + P2` or `P1 - P2`, respectively."
   ],
   "id": "71dce3c36a951736"
  },
  {
   "metadata": {},
   "cell_type": "code",
   "outputs": [],
   "execution_count": null,
   "source": [
    "# Compute the Minkowski sum of the hexagon_1 and a small square\n",
    "square_1 = Polyhedron.from_Vrep(0.2 * np.array([[1,1], [-1,1], [1,-1], [-1,-1]]))\n",
    "P5 = hexagon_1 + square_1\n",
    "# Optionally and equivalently, use:\n",
    "P5 = hexagon_1.minkowski_sum(square_1)\n",
    "\n",
    "ax = plt.subplot()\n",
    "ax.set_aspect('equal')\n",
    "P5.plot(ax, color='gray', opacity=0.3)\n",
    "hexagon_1.plot(ax, color='red', opacity=0.3)\n",
    "square_1.plot(ax, color='green', opacity=0.3)\n",
    "\n",
    "plt.show()"
   ],
   "id": "b001065073b15b05"
  },
  {
   "metadata": {},
   "cell_type": "code",
   "outputs": [],
   "execution_count": null,
   "source": [
    "# Compute the Pontragin difference of the hexagon_1 and a small square\n",
    "P6 = hexagon_1 - square_1\n",
    "# Optionally and equivalently, use:\n",
    "P6 = hexagon_1.pontryagin_difference(square_1)\n",
    "\n",
    "ax = plt.subplot()\n",
    "ax.set_aspect('equal')\n",
    "hexagon_1.plot(ax, color='red', opacity=0.3)\n",
    "square_1.plot(ax, color='green', opacity=0.3)\n",
    "P6.plot(ax, color='gray', opacity=0.3)\n",
    "\n",
    "plt.show()"
   ],
   "id": "9cfb505104207461"
  },
  {
   "metadata": {},
   "cell_type": "markdown",
   "source": [
    "### Projection\n",
    "\n",
    "The projection of a polyhedron $P \\subseteq \\mathbb{R}^{n+m}$ onto the first $n$ coordinates is defined as\n",
    "$$\n",
    "\\mathrm{proj}_x(P) = \\{ x \\in \\mathbb{R}^n \\mid \\exists y \\in \\mathbb{R}^m \\text{ such that } (x, y) \\in P \\}.\n",
    "$$\n",
    "This operation eliminates variables and results in another polyhedron in a lower-dimensional space. Projection is fundamental in optimization and control, as it allows us to focus on variables of interest by removing auxiliary or slack variables.\n",
    "\n",
    "In *mpt4py*, the projection of a polyhedron `P` can be computed with `P.projection(dims)`, where `dims` is a sequence of integers containing the dimensions to be projected onto. \n",
    "\n",
    "**Note**: do not confuse `P.projection()` with `P.project()`! The latter one projects a given point onto the polyhedron."
   ],
   "id": "826ceb28aef4d21b"
  },
  {
   "metadata": {},
   "cell_type": "code",
   "outputs": [],
   "execution_count": null,
   "source": [
    "# compute the projection of a hexagon onto x axis and y axis\n",
    "hexagon_1_x = hexagon_1.projection([0])\n",
    "hexagon_1_y = hexagon_1.projection([1])\n",
    "\n",
    "print(\"Vertices of the hexagon's projection onto x-axis are:\\n\", hexagon_1_x.V)\n",
    "print(\"Vertices of the hexagon's projection onto y-axis are:\\n\", hexagon_1_y.V)\n"
   ],
   "id": "cafdc96bd701e16"
  },
  {
   "metadata": {},
   "cell_type": "markdown",
   "source": [
    "### Redundancy elimination\n",
    "\n",
    "You might have already noticed that the output of the previous code blocks contains more vertices than necessary, indicating that these representations are redundant.\n",
    "\n",
    "In *mpt4py*, you can compute the minimal representation of either H-rep or V-rep through `P.minHrep()` or `P.minVrep()`, respectively."
   ],
   "id": "53ffb44dccca539a"
  },
  {
   "metadata": {},
   "cell_type": "code",
   "outputs": [],
   "execution_count": null,
   "source": [
    "# compute the minimal V-rep of the projections\n",
    "_ = hexagon_1_x.minVrep(inplace=True)\n",
    "_ = hexagon_1_y.minVrep(inplace=True)\n",
    "\n",
    "print(\"The minimal V-rep of the hexagon's projection onto x-axis is:\\n\", hexagon_1_x.V)\n",
    "print(\"The minimal V-rep of the hexagon's projection onto y-axis is:\\n\", hexagon_1_y.V)"
   ],
   "id": "b5f6a5f5d2e5539f"
  }
 ],
 "metadata": {},
 "nbformat": 4,
 "nbformat_minor": 5
}
