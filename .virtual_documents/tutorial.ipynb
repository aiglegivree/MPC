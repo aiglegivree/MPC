


import numpy as np
from mpt4py.base import HData, VData
from mpt4py import Polyhedron
%config InlineBackend.figure_format = 'retina'









# Create a 2D hexagon from H-representation
theta = np.linspace(0, 2*np.pi, 7).reshape((-1,1))[:-1]
A = np.column_stack((np.sin(theta), np.cos(theta)))
b = np.sqrt(3)/2 * np.ones((6))

hrep = HData(A=A, b=b, Ae=None, be=None) # you can save the Ae and be arguments since their default values are None
hexagon_1 = Polyhedron(H=hrep)





hexagon_1 = Polyhedron.from_Hrep(A=A, b=b) # a more compact way 





# Create the same 2D hexagon from V-representation
V = np.column_stack((np.cos(theta), np.sin(theta))) # the vertices
vrep = VData(V=V, R=None)
hexagon_2 = Polyhedron(V=vrep)





hexagon_2 = Polyhedron.from_Vrep(V=V) # a more compact way








# Visualization with matplotlib
import matplotlib.pyplot as plt
fig, ax = plt.subplots(1, 1)
ax.set_aspect('equal')

hexagon_1.plot(ax, opacity=0.3, color='red', label='hexagon',
               show_edges=True, edge_color='black', edge_width=2.,         # edge options
               show_vertices=True, vertex_color='purple', vertex_size=20.  # vertex options
               )
plt.legend(loc="upper right")
plt.show()


# Visualization with pyvista
import pyvista as pv
plotter = pv.Plotter()

hexagon_2.plot(
    plotter, opacity=0.5, color='red',
    show_edges=True, edge_color='black', edge_width=5.,
    show_vertices=True, vertex_color='purple', vertex_size=20.,
    # label=...  label is not yet supported with pyvista backend
    )

plotter.view_xy()  # view the 3D object in a 2D manner on the xy plane 
plotter.show()





V = np.array([[1, 0, 0], [0, 1, 0], [-1, 0, 0], [0, -1, 0], [0, 0, 1]], dtype=np.float64)  # a pyramid
P = Polyhedron.from_Vrep(V)
ax = plt.subplot(projection='3d')  # ! don't forget the projection argument

P.plot(
    ax, color='r', opacity=0.2, 
    show_edges=True, show_vertices=False,
    # label='pyramid',  # label is not yet available for 3D polyhedron plotting in mpt4py
    )
plt.show()





plotter = pv.Plotter()
P.plot(
    plotter, 
    opacity=1.0,
    color='lightblue', 
    )
plotter.show_bounds()
plotter.show()





R = np.array([[0, 0, 1]], dtype=np.float64)
P = Polyhedron.from_Vrep(V, R)  # add a ray to make the polyhedron unbounded
plotter = pv.Plotter()
P.plot(
    plotter, 
    opacity=0.5,
    color='green', 
    show_edges=False,
    )
plotter.show_bounds()
plotter.show()





print("Is hexagon 1 a subset of hexagon 2? ", hexagon_1 in hexagon_2)
print("Is hexagon 2 a subset of hexagon 1? ", hexagon_2 in hexagon_1)

print("Does hexagon 1 contain hexagon 2? ", hexagon_1.contains(hexagon_2))
print("Does hexagon 2 contain hexagon 1? ", hexagon_2.contains(hexagon_1))





print("Are the two hexagons identical? ", hexagon_1 == hexagon_2)





alpha = np.pi/3
T = np.array([[np.cos(alpha), -np.sin(alpha)], [np.sin(alpha), np.cos(alpha)]])
t = np.array([1.5, 0.])

hexagon_3 = hexagon_2.affine_map(T, t)
# Optionally and equivalently:
hexagon_3 = T @ hexagon_2 + t

ax = plt.subplot()
ax.set_aspect('equal')
hexagon_1.plot(ax, color='red', opacity=0.3)
hexagon_3.plot(ax, color='blue', opacity=0.3)
plt.show()





P4 = hexagon_1.intersect(hexagon_3)

ax = plt.subplot()
ax.set_aspect('equal')
P4.plot(ax, color='purple', opacity=0.3)
plt.show()





# Compute the Minkowski sum of the hexagon_1 and a small square
square_1 = Polyhedron.from_Vrep(0.2 * np.array([[1,1], [-1,1], [1,-1], [-1,-1]]))
P5 = hexagon_1 + square_1
# Optionally and equivalently, use:
P5 = hexagon_1.minkowski_sum(square_1)

ax = plt.subplot()
ax.set_aspect('equal')
P5.plot(ax, color='gray', opacity=0.3)
hexagon_1.plot(ax, color='red', opacity=0.3)
square_1.plot(ax, color='green', opacity=0.3)

plt.show()


# Compute the Pontragin difference of the hexagon_1 and a small square
P6 = hexagon_1 - square_1
# Optionally and equivalently, use:
P6 = hexagon_1.pontryagin_difference(square_1)

ax = plt.subplot()
ax.set_aspect('equal')
hexagon_1.plot(ax, color='red', opacity=0.3)
square_1.plot(ax, color='green', opacity=0.3)
P6.plot(ax, color='gray', opacity=0.3)

plt.show()





# compute the projection of a hexagon onto x axis and y axis
hexagon_1_x = hexagon_1.projection([0])
hexagon_1_y = hexagon_1.projection([1])

print("Vertices of the hexagon's projection onto x-axis are:\n", hexagon_1_x.V)
print("Vertices of the hexagon's projection onto y-axis are:\n", hexagon_1_y.V)






# compute the minimal V-rep of the projections
_ = hexagon_1_x.minVrep(inplace=True)
_ = hexagon_1_y.minVrep(inplace=True)

print("The minimal V-rep of the hexagon's projection onto x-axis is:\n", hexagon_1_x.V)
print("The minimal V-rep of the hexagon's projection onto y-axis is:\n", hexagon_1_y.V)
