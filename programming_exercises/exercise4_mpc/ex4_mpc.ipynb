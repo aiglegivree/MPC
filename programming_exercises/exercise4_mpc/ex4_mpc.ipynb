{
 "cells": [
  {
   "cell_type": "markdown",
   "id": "1d5f4c17",
   "metadata": {},
   "source": [
    "<small>\n",
    "Copyright (C) 2025, École Polytechnique Fédérale de Lausanne. All Rights Reserved.\n",
    "</small>\n",
    "\n",
    "---"
   ]
  },
  {
   "cell_type": "markdown",
   "id": "ac7cef9a",
   "metadata": {},
   "source": [
    "# Exercise 4 | Implement MPC\n",
    "\n",
    "## Problem 1 | Implement MPC\n",
    "Consider the discrete-time linear time-invariant system defined by\n",
    "$$\n",
    "x^+ = \\begin{bmatrix}0.9752 & 1.4544 \\\\ -0.0327 & 0.9315 \\end{bmatrix} x + \\begin{bmatrix}0.0248 \\\\ 0.0327 \\end{bmatrix} u\n",
    "$$\n",
    "with constraints\n",
    "$$ \\mathcal{X} = \\{x \\mid |x_1|\\leq 5, |x_2|\\leq 0.2 \\},\\quad \\mathcal{U} = \\{ u \\mid |u| \\leq 1 \\} $$\n",
    "\n",
    "This is a second-order system with a natural frequency of $0.15r/s$, a damping ratio of $\\eta= 0.1$, which has been discretized at $1.5r/s$. The first state is the position, and the second is velocity.\n",
    "\n",
    "Your goal is to implement an MPC controller for this system with a horizon of $N=10$ and a stage cost given by $l(x,u) := 10x^\\top x+ u^\\top u$.\n",
    "\n",
    "\n"
   ]
  },
  {
   "cell_type": "code",
   "execution_count": 1,
   "id": "0fa732b7",
   "metadata": {},
   "outputs": [],
   "source": [
    "import numpy as np\n",
    "from mpt4py import Polyhedron\n",
    "from scipy.linalg import block_diag\n",
    "\n",
    "import matplotlib.pyplot as plt\n",
    "%config InlineBackend.figure_format = 'retina'\n",
    "\n",
    "# System dynamics\n",
    "A = np.array([[0.9752, 1.4544], [-0.0327, 0.9315]])\n",
    "B = np.array([[0.0248], [0.0327]])\n",
    "\n",
    "# Initial condition\n",
    "x0 = np.array([3, 0])\n",
    "\n",
    "# Horizon and cost matrices\n",
    "N = 10\n",
    "Q = 10 * np.eye(2)\n",
    "R = np.eye(1)\n",
    "\n",
    "# Constraints\n",
    "# u in U = { u | Mu <= m }\n",
    "M = np.array([[1], [-1]])\n",
    "m = np.array([1.75, 1.75])\n",
    "U = Polyhedron.from_Hrep(M, m)\n",
    "# x in X = { x | Fx <= f }\n",
    "F = np.array([[1, 0], [0, 1], [-1, 0], [0, -1]])\n",
    "f = np.array([5, 0.2, 5, 0.2])\n",
    "X = Polyhedron.from_Hrep(F, f)"
   ]
  },
  {
   "cell_type": "markdown",
   "id": "4cd121cc",
   "metadata": {},
   "source": [
    "### Tasks 1\n",
    "\n",
    "Compute a terminal controller, weight and set that will ensure recursive feasibility and stability of the closed-loop system.\n",
    "\n",
    "**Hints**:\n",
    "- You can reuse your code from Exercise 3 to design the terminal set.\n",
    "- The feedback matrix $K$ and weight matrix $Q_f$ of LQR controller can be computed using the [`dlqr`](https://python-control.readthedocs.io/en/0.10.2/generated/control.dlqr.html#control.dlqr) function in Python Control Toolbox: `from control import dlqr; K, Qf, _ = dlqr(A, B, Q, R)`."
   ]
  },
  {
   "cell_type": "code",
   "execution_count": 2,
   "id": "8ae6b313",
   "metadata": {},
   "outputs": [
    {
     "name": "stdout",
     "output_type": "stream",
     "text": [
      "The terminal weight is Qf=\n",
      " [[ 37.0252152   68.38496038]\n",
      " [ 68.38496038 407.11769797]]\n",
      "\n",
      "The terminal controller is u=Kx where K=\n",
      " [[ -1.64778648 -11.83442686]]\n",
      "Iteration 1... not yet converged\n",
      "\n",
      "Iteration 2... not yet converged\n",
      "\n",
      "Iteration 3... not yet converged\n",
      "\n",
      "Iteration 4... not yet converged\n",
      "\n",
      "Maximum invariant set successfully computed after 5 iterations.\n"
     ]
    }
   ],
   "source": [
    "from control import dlqr\n",
    "K, Qf, _ = dlqr(A, B, Q, R)\n",
    "K = -K\n",
    "\n",
    "print('The terminal weight is Qf=\\n', Qf)\n",
    "print('\\nThe terminal controller is u=Kx where K=\\n', K)\n",
    "\n",
    "\n",
    "# Compute maximal invariant set\n",
    "def max_invariant_set(A_cl, X: Polyhedron, max_iter = 30) -> Polyhedron:\n",
    "\t\"\"\"\n",
    "\tCompute invariant set for an autonomous linear time invariant system x^+ = A_cl x\n",
    "\t\"\"\"\n",
    "\tO = X\n",
    "\titr = 1\n",
    "\tconverged = False\n",
    "\twhile itr < max_iter:\n",
    "\t\tOprev = O\n",
    "\t\tF, f = O.A, O.b\n",
    "\t\t# Compute the pre-set\n",
    "\t\t# O = Polyhedron.from_Hrep(np.vstack((F, F @ A_cl)), np.vstack((f, f)).reshape((-1,)))\n",
    "\t\tO = Polyhedron.from_Hrep(F @ A_cl, f).intersect(O)\n",
    "\t\tif O == Oprev:\n",
    "\t\t\tconverged = True\n",
    "\t\t\tbreak\n",
    "\t\tprint('Iteration {0}... not yet converged\\n'.format(itr))\n",
    "\t\titr += 1\n",
    "\t\n",
    "\tif converged:\n",
    "\t\tprint('Maximum invariant set successfully computed after {0} iterations.'.format(itr))\n",
    "\treturn O\n",
    "\n",
    "A_cl = A + B @ K\n",
    "O_inf = max_invariant_set(A_cl, X)\n"
   ]
  },
  {
   "cell_type": "markdown",
   "id": "0cd50cd4",
   "metadata": {},
   "source": [
    "### Task 2\n",
    "<!-- \n",
    "Compute the sets and weights using your code from last week, and then repeat the procedure\n",
    "to validate your results using `mpt4py` as follows: \n",
    "-->\n",
    "\n",
    "Compute the matrices and vector so that the MPC problem can be solved using the Quadratic Programming solver [*PIQP*](https://predict-epfl.github.io/piqp/), which solves the optimization problem with the following form:\n",
    "\n",
    "$$ \\begin{aligned} \\min_{x} \\quad & \\frac{1}{2} x^\\top P x + c^\\top x\\\\  \\text{s.t.}\\quad & Ax=b, \\\\ & h_l \\leq Gx \\leq h_u \\\\ & x_l \\leq x \\leq x_u. \\end{aligned} $$\n",
    "\n",
    "You must check the solver status every time you call an optimization routine to confirm that an optimal solution was found (only if `status == piqp.PIQP_SOLVED`).\n",
    "\n"
   ]
  },
  {
   "cell_type": "code",
   "execution_count": 3,
   "id": "2eb0373e",
   "metadata": {},
   "outputs": [
    {
     "name": "stdout",
     "output_type": "stream",
     "text": [
      "Status.PIQP_SOLVED\n"
     ]
    }
   ],
   "source": [
    "nx, nu = B.shape\n",
    "P_qp = block_diag(np.kron(np.eye(N),Q),Qf,np.kron(np.eye(N),R))\n",
    "c_qp = np.zeros((P_qp.shape[0],))\n",
    "A_qp = np.hstack([np.kron(np.eye(N+1),np.eye(nx))-np.kron(np.eye(N+1,k=-1),A),np.kron(np.eye(N+1,N,k=-1),-B)])\n",
    "b_qp = np.concatenate([x0,np.zeros((nx*N))])\n",
    "G_qp = block_diag(np.kron(np.eye(N),X.A),O_inf.A,(np.kron(np.eye(N),U.A)))\n",
    "h_u_qp = np.concatenate([np.kron(np.ones(N),X.b).reshape(-1,),O_inf.b,np.kron(np.ones(N),U.b).reshape(-1,)])\n",
    "h_l_qp = -np.inf * np.ones_like(h_u_qp)\n",
    "\n",
    "# Setup the qp solver\n",
    "import piqp\n",
    "qp_solver = piqp.DenseSolver()\n",
    "qp_solver.setup(P=P_qp, c=c_qp, A=A_qp, b=b_qp, G=G_qp, h_l=h_l_qp, h_u=h_u_qp)\n",
    "status = qp_solver.solve()\n",
    "print(status)\n",
    "assert status == piqp.PIQP_SOLVED\n",
    "\n"
   ]
  },
  {
   "cell_type": "markdown",
   "id": "afc04a60",
   "metadata": {},
   "source": [
    "### Task 3\n",
    "Simulate the closed-loop system starting from the state $x = [3, ~ 0]^\\top$. Confirm that your constraints are met. Change the tuning parameters $Q$ and $R$. Does the system respond as expected?"
   ]
  },
  {
   "cell_type": "code",
   "execution_count": 4,
   "id": "704cb6df",
   "metadata": {},
   "outputs": [],
   "source": [
    "# Closed-loop simulation of the state and input trajectories\n",
    "def plot_trajs(t_traj_closed_loop: np.ndarray, \n",
    "               x_traj_closed_loop: np.ndarray,\n",
    "               u_traj_closed_loop: np.ndarray):\n",
    "\t# Visualization of the trajectories\n",
    "\tfig, ax = plt.subplots(3, 1, sharex=True)\n",
    "\tax[0].plot(t_traj_closed_loop, x_traj_closed_loop[0, :], label=r'$p$')\n",
    "\tax[0].plot(t_traj_closed_loop, 5 * np.ones_like(t_traj_closed_loop), color='red', linestyle='--')\n",
    "\tax[0].plot(t_traj_closed_loop, -5 * np.ones_like(t_traj_closed_loop), color='red', linestyle='--')\n",
    "\tax[0].grid()\n",
    "\tax[0].set_ylabel('x1')\n",
    "\n",
    "\tax[1].plot(t_traj_closed_loop, x_traj_closed_loop[1, :], label=r'$v$')\n",
    "\tax[1].plot(t_traj_closed_loop, 0.2 * np.ones_like(t_traj_closed_loop), color='red', linestyle='--')\n",
    "\tax[1].plot(t_traj_closed_loop, -0.2 * np.ones_like(t_traj_closed_loop), color='red', linestyle='--')\n",
    "\tax[1].grid()\n",
    "\tax[1].set_ylabel('x2')\n",
    "\n",
    "\tax[2].plot(t_traj_closed_loop[:-1], u_traj_closed_loop[0, :], label=r'$a$')\n",
    "\tax[2].plot(t_traj_closed_loop[:-1], 1.75 * np.ones_like(t_traj_closed_loop[:-1]), color='red', linestyle='--')\n",
    "\tax[2].plot(t_traj_closed_loop[:-1], -1.75 * np.ones_like(t_traj_closed_loop[:-1]), color='red', linestyle='--')\n",
    "\tax[2].grid()\n",
    "\tax[2].set_ylabel('u')\n",
    "\tax[2].set_xlabel('steps')\n",
    "\n",
    "\tfig.suptitle('Closed-loop trajectory')\n",
    "\tfig.align_ylabels()\n",
    "\tplt.show()\n"
   ]
  },
  {
   "cell_type": "code",
   "execution_count": 5,
   "id": "113cc146",
   "metadata": {},
   "outputs": [
    {
     "data": {
      "image/png": "[encoded data removed]",
      "text/plain": [
       "<Figure size 640x480 with 3 Axes>"
      ]
     },
     "metadata": {
      "image/png": {
       "height": 480,
       "width": 579
      }
     },
     "output_type": "display_data"
    }
   ],
   "source": [
    "N_closed_loop = 100\n",
    "t_traj_closed_loop = np.arange(0, N_closed_loop+1)\n",
    "x_traj_closed_loop = np.zeros((nx, N_closed_loop+1))\n",
    "u_traj_closed_loop = np.zeros((nu, N_closed_loop))\n",
    "\n",
    "x_traj_closed_loop[:, 0] = x0\n",
    "xk = x0\n",
    "\n",
    "# Closed-loop simulation\n",
    "for k in range(N_closed_loop):\n",
    "    # update the x0 parameter in QP\n",
    "    b_qp = np.concatenate([xk,np.zeros((nx*N))])\n",
    "    qp_solver.update(b=b_qp)\n",
    "\n",
    "    status = qp_solver.solve()\n",
    "    assert status == piqp.PIQP_SOLVED\n",
    "    \n",
    "    # extract the optimal input u0\n",
    "    uk = qp_solver.result.x[(N+1)*nx:(N+1)*nx+nu]\n",
    "    \n",
    "\t# update\n",
    "    xk = A @ xk + B @ uk\n",
    "    x_traj_closed_loop[:, k+1] = xk.flatten()\n",
    "    u_traj_closed_loop[:, k] = uk.flatten()\n",
    "\n",
    "plot_trajs(t_traj_closed_loop, x_traj_closed_loop, u_traj_closed_loop)    "
   ]
  },
  {
   "cell_type": "markdown",
   "id": "336c4ff6",
   "metadata": {},
   "source": [
    "## Problem 2 | Implement MPC using CVXPY\n",
    "\n",
    "Repeat the first exercise, but now make use of the Python optimization toolbox CVXPY. \n",
    "\n",
    "### Task 1\n",
    "\n",
    "Implement your controller from the first exercise again, now using CVXPY. Confirm that the\n",
    "solution is the same."
   ]
  },
  {
   "cell_type": "code",
   "execution_count": 10,
   "id": "950a7ad4",
   "metadata": {},
   "outputs": [],
   "source": [
    "import cvxpy as cp\n",
    "\n",
    "# Define variables\n",
    "nx, nu = B.shape\n",
    "x_var = cp.Variable((nx, N + 1), name='x')\n",
    "u_var = cp.Variable((nu, N), name='u')\n",
    "x0_var = cp.Parameter((nx,), name='x0')\n",
    "\n",
    "# Costs\n",
    "\n",
    "cost = 0\n",
    "for i in range(N):\n",
    "    cost+= cp.quad_form(x_var[:,i],Q)\n",
    "    cost+= cp.quad_form(u_var[:,i],R)\n",
    "\n",
    "cost += cp.quad_form(x_var[:, -1], Qf)\n",
    "\n",
    "# Constraints\n",
    "constraints = []\n",
    "\n",
    "# Initial condition\n",
    "constraints.append(x_var[:, 0] == x0_var)\n",
    "\n",
    "# System dynamics\n",
    "constraints.append(x_var[:,1:] == A @ x_var[:,:-1] + B @ u_var)\n",
    "\n",
    "# State constraints\n",
    "constraints.append(X.A @ x_var[:, :-1] <= X.b.reshape(-1, 1))\n",
    "\n",
    "# Input constraints\n",
    "constraints.append(U.A @ u_var <= U.b.reshape(-1, 1))\n",
    "\n",
    "# Terminal Constraints\n",
    "constraints.append(O_inf.A @ x_var[:, -1] <= O_inf.b.reshape(-1, 1)) \n",
    "\n",
    "\n",
    "ocp = cp.Problem(cp.Minimize(cost), constraints)"
   ]
  },
  {
   "cell_type": "markdown",
   "id": "39a57109",
   "metadata": {},
   "source": [
    "### Task 2\n",
    "Plot the position, velocity and input of the system. Confirm that your solution is the same\n",
    "as for exercise 1."
   ]
  },
  {
   "cell_type": "code",
   "execution_count": 11,
   "id": "8a6b56c5",
   "metadata": {},
   "outputs": [
    {
     "ename": "AssertionError",
     "evalue": "",
     "output_type": "error",
     "traceback": [
      "\u001b[31m---------------------------------------------------------------------------\u001b[39m",
      "\u001b[31mAssertionError\u001b[39m                            Traceback (most recent call last)",
      "\u001b[36mCell\u001b[39m\u001b[36m \u001b[39m\u001b[32mIn[11]\u001b[39m\u001b[32m, line 14\u001b[39m\n\u001b[32m     12\u001b[39m x0_var.value = xk\n\u001b[32m     13\u001b[39m ocp.solve(solver=cp.PIQP)\n\u001b[32m---> \u001b[39m\u001b[32m14\u001b[39m \u001b[38;5;28;01massert\u001b[39;00m ocp.status == cp.OPTIMAL\n\u001b[32m     15\u001b[39m uk = u_var.value[:, \u001b[32m0\u001b[39m]\n\u001b[32m     16\u001b[39m xk = A @ xk + B @ uk\n",
      "\u001b[31mAssertionError\u001b[39m: "
     ]
    }
   ],
   "source": [
    "# Closed-loop simulation of the state and input trajectories\n",
    "N_closed_loop = 100\n",
    "t_traj_closed_loop = np.arange(0, N_closed_loop+1)\n",
    "x_traj_closed_loop = np.zeros((nx, N_closed_loop+1))\n",
    "u_traj_closed_loop = np.zeros((nu, N_closed_loop))\n",
    "\n",
    "x_traj_closed_loop[:, 0] = x0\n",
    "xk = x0\n",
    "\n",
    "# Closed-loop simulation\n",
    "for k in range(N_closed_loop):\n",
    "    x0_var.value = xk\n",
    "    ocp.solve(solver=cp.PIQP)\n",
    "    assert ocp.status == cp.OPTIMAL\n",
    "    uk = u_var.value[:, 0]\n",
    "    xk = A @ xk + B @ uk\n",
    "    x_traj_closed_loop[:, k+1] = xk.flatten()\n",
    "    u_traj_closed_loop[:, k] = uk.flatten()\n",
    "    \n",
    "\n",
    "plot_trajs(t_traj_closed_loop, x_traj_closed_loop, u_traj_closed_loop)    \n"
   ]
  }
 ],
 "metadata": {
  "kernelspec": {
   "display_name": "mpc",
   "language": "python",
   "name": "python3"
  },
  "language_info": {
   "codemirror_mode": {
    "name": "ipython",
    "version": 3
   },
   "file_extension": ".py",
   "mimetype": "text/x-python",
   "name": "python",
   "nbconvert_exporter": "python",
   "pygments_lexer": "ipython3",
   "version": "3.12.11"
  }
 },
 "nbformat": 4,
 "nbformat_minor": 5
}
